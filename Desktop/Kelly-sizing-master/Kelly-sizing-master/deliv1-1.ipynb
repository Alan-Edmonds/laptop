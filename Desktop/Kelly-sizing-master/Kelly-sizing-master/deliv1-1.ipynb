{
 "cells": [
  {
   "cell_type": "markdown",
   "metadata": {},
   "source": [
    "# Problem 1"
   ]
  },
  {
   "cell_type": "code",
   "execution_count": 272,
   "metadata": {},
   "outputs": [
    {
     "name": "stdout",
     "output_type": "stream",
     "text": [
      "sample probability for straight:  0.0038\n",
      "copies of simulation needed to achieve accuracy of 0.0001: \n"
     ]
    }
   ],
   "source": [
    "import numpy as np\n",
    "\n",
    "card_deck = []\n",
    "for rank in range(13):\n",
    "    for suit in range(4):\n",
    "        card_deck.append({'rank':rank, 'suit':suit})\n",
    "        \n",
    "def is_straight(hand):\n",
    "    hand_ranks = [x['rank'] for x in hand]\n",
    "    hand_suits = [x['suit'] for x in hand]\n",
    "    consecutive = ((max(hand_ranks) - min(hand_ranks)) == 4) and (len(np.unique(hand_ranks))==5)\n",
    "    straight_flush = len(np.unique(hand_suits)) == 1\n",
    "    return consecutive and not straight_flush\n",
    "\n",
    "def one_experiment():\n",
    "    hand = np.random.choice(card_deck, 5, replace=False)\n",
    "    return is_straight(hand)\n",
    "\n",
    "results = []\n",
    "for i in range(10000):\n",
    "    results.append(one_experiment())\n",
    "print(\"sample probability for straight: \", np.mean(results))\n",
    "\n",
    "print(\"copies of simulation needed to achieve accuracy of 0.0001: \")"
   ]
  },
  {
   "cell_type": "code",
   "execution_count": 174,
   "metadata": {},
   "outputs": [
    {
     "data": {
      "text/latex": [
       "$\\frac{1}{\\sqrt{n}}$ $\\leq 0.0001 \\\\ n \\geq 10^{8}$\n"
      ],
      "text/plain": [
       "<IPython.core.display.Latex object>"
      ]
     },
     "metadata": {},
     "output_type": "display_data"
    }
   ],
   "source": [
    "%%latex\n",
    "$\\frac{1}{\\sqrt{n}}$ $\\leq 0.0001 \\\\ n \\geq 10^{8}$"
   ]
  },
  {
   "cell_type": "markdown",
   "metadata": {},
   "source": [
    "# Problem 2.i"
   ]
  },
  {
   "cell_type": "code",
   "execution_count": 270,
   "metadata": {},
   "outputs": [
    {
     "name": "stdout",
     "output_type": "stream",
     "text": [
      "sample mean for E_i:  19.97\n",
      "sample variance for E_i: 23.1691\n"
     ]
    }
   ],
   "source": [
    "from scipy.stats import poisson\n",
    "import math\n",
    "def generate_sample():\n",
    "    return poisson.rvs(mu = 2, size = 10)\n",
    "results = []\n",
    "for i in range(100):\n",
    "    results.append(sum(generate_sample()))\n",
    "mean = np.mean(results)\n",
    "\n",
    "print(\"sample mean for E_i: \", mean)\n",
    "\n",
    "sample_variances = []\n",
    "for E_i in results:\n",
    "    sample_variances.append(math.pow(E_i - mean, 2))\n",
    "print(\"sample variance for E_i:\", sum(sample_variances)/100)"
   ]
  },
  {
   "cell_type": "markdown",
   "metadata": {},
   "source": [
    "# Problem 2.ii"
   ]
  },
  {
   "cell_type": "code",
   "execution_count": 271,
   "metadata": {},
   "outputs": [
    {
     "data": {
      "image/png": "[encoded data removed]",
      "text/plain": [
       "<Figure size 432x288 with 1 Axes>"
      ]
     },
     "metadata": {
      "needs_background": "light"
     },
     "output_type": "display_data"
    }
   ],
   "source": [
    "import matplotlib.pyplot as plt\n",
    "_ = plt.hist(results, bins=20, density=True)"
   ]
  },
  {
   "cell_type": "markdown",
   "metadata": {},
   "source": [
    "# Problem 2.iii"
   ]
  },
  {
   "cell_type": "code",
   "execution_count": 269,
   "metadata": {},
   "outputs": [
    {
     "name": "stdout",
     "output_type": "stream",
     "text": [
      "percentage of inter-arrivals longer than 1 minute:  13.838862559241708\n",
      "math.exp(-2):  0.1353352832366127\n"
     ]
    },
    {
     "data": {
      "image/png": "[encoded data removed]",
      "text/plain": [
       "<Figure size 432x288 with 1 Axes>"
      ]
     },
     "metadata": {
      "needs_background": "light"
     },
     "output_type": "display_data"
    }
   ],
   "source": [
    "from scipy.stats import expon\n",
    "\n",
    "def get_an_arrival():\n",
    "    x = expon.rvs(scale = 1/2, size = 1)\n",
    "    #print(x)\n",
    "    return x\n",
    "\n",
    "def get_a_day():\n",
    "    day = []\n",
    "    while(sum(day) <= 10):\n",
    "        day.append(get_an_arrival())\n",
    "    #print(day)\n",
    "    return day\n",
    "\n",
    "r = []\n",
    "for i in range(100):\n",
    "    for interarrival in get_a_day():\n",
    "        if interarrival > 1:\n",
    "            r.append(True)\n",
    "        else:\n",
    "            r.append(False)\n",
    "print(\"percentage of inter-arrivals longer than 1 minute: \", np.mean(r)*100)\n",
    "print(\"math.exp(-2): \", math.exp(-2))\n",
    "\n",
    "_ = plt.hist(results, bins=20, density=True)"
   ]
  },
  {
   "cell_type": "markdown",
   "metadata": {},
   "source": [
    "# Problem 2.iv"
   ]
  },
  {
   "cell_type": "code",
   "execution_count": 267,
   "metadata": {},
   "outputs": [
    {
     "data": {
      "image/png": "[encoded data removed]",
      "text/plain": [
       "<Figure size 432x288 with 1 Axes>"
      ]
     },
     "metadata": {
      "needs_background": "light"
     },
     "output_type": "display_data"
    },
    {
     "name": "stdout",
     "output_type": "stream",
     "text": [
      "expectation a:  0.6526650764257826\n",
      "standard devioation:  0.2437791560076194\n",
      "\n",
      "percentage of simulated service times shorter than a+2σ/√E1:  64.0 %\n",
      "\n",
      "\n",
      "\n",
      "\n",
      "\n"
     ]
    },
    {
     "data": {
      "image/png": "[encoded data removed]",
      "text/plain": [
       "<Figure size 432x288 with 1 Axes>"
      ]
     },
     "metadata": {
      "needs_background": "light"
     },
     "output_type": "display_data"
    },
    {
     "name": "stdout",
     "output_type": "stream",
     "text": [
      "expectation a:  0.6663914469264142\n",
      "standard devioation:  0.23282921316434188\n",
      "\n",
      "percentage of simulated service times shorter than a+2σ/√E1:  45.11 %\n",
      "\n",
      "\n",
      "\n",
      "\n",
      "\n",
      "standard normal cdf for x = 2:  97.72498680518208\n"
     ]
    }
   ],
   "source": [
    "e1 = sum(generate_sample())\n",
    "#e1 = 10000\n",
    "\n",
    "def inverse_cdf(x):\n",
    "    return math.sqrt(x)\n",
    "vectorize_inverse_cdf = np.vectorize(inverse_cdf)\n",
    "\n",
    "def run(e1):\n",
    "    U = np.random.uniform(size=e1)\n",
    "    simulated_times = vectorize_inverse_cdf(U)\n",
    "    plt.title('simulated service times for E1 = ' + str(e1) + ' customers')\n",
    "    _ = plt.hist(simulated_times, bins=20, density=True)\n",
    "    plt.show()\n",
    "    a = sum(simulated_times)/e1\n",
    "    print(\"expectation a: \", a)\n",
    "\n",
    "\n",
    "    deviations = []\n",
    "    for service_time in simulated_times:\n",
    "        deviations.append(math.pow(service_time - a, 2))\n",
    "    std_dev = math.sqrt(sum(deviations)/e1)\n",
    "    print(\"standard devioation: \", std_dev)\n",
    "\n",
    "\n",
    "    shorter = []\n",
    "    print()\n",
    "    val = a + 2*std_dev/math.sqrt(e1)\n",
    "    for service_time in simulated_times:\n",
    "        if service_time < val:\n",
    "            shorter.append(True)\n",
    "        else:\n",
    "            shorter.append(False)\n",
    "    print(\"percentage of simulated service times shorter than a+2σ/√E1: \", np.mean(shorter)*100, \"%\")\n",
    "    for i in range(5):\n",
    "        print()\n",
    "        \n",
    "run(sum(generate_sample()))\n",
    "run(10000)\n",
    "\n",
    "from scipy.stats import norm\n",
    "print(\"standard normal cdf for x = 2: \", norm.cdf(2)*100)"
   ]
  },
  {
   "cell_type": "code",
   "execution_count": 273,
   "metadata": {},
   "outputs": [],
   "source": [
    "#   I don't know how to compare the percentage of the simulated service times that are shorter than a+2σ/√E1\n",
    "#   to the percentage of values in the standard normal distribution that are <= 2. \n",
    "\n",
    "#   When I computed that percentage using E1 = 25 simulated service times, I got 64%. When I computed the percentage for \n",
    "#   10000 simulated service times, I got ~45%. \n",
    "#   I must have gone wrong somewhere, because I don't know how to compare it to the 97.7% from the normal cdf."
   ]
  },
  {
   "cell_type": "code",
   "execution_count": null,
   "metadata": {},
   "outputs": [],
   "source": []
  }
 ],
 "metadata": {
  "kernelspec": {
   "display_name": "Python 3",
   "language": "python",
   "name": "python3"
  },
  "language_info": {
   "codemirror_mode": {
    "name": "ipython",
    "version": 3
   },
   "file_extension": ".py",
   "mimetype": "text/x-python",
   "name": "python",
   "nbconvert_exporter": "python",
   "pygments_lexer": "ipython3",
   "version": "3.7.6"
  }
 },
 "nbformat": 4,
 "nbformat_minor": 4
}
