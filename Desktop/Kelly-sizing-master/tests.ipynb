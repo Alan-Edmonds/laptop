{
 "cells": [
  {
   "cell_type": "code",
   "execution_count": 6,
   "metadata": {},
   "outputs": [
    {
     "name": "stdout",
     "output_type": "stream",
     "text": [
      "0.9160759830051242\n",
      "369.57142857142856\n"
     ]
    }
   ],
   "source": [
    "import math\n",
    "current_sum = 0\n",
    "for i in range(10):\n",
    "    current_sum += 6**i/math.factorial(i)\n",
    "print(math.exp(-6)*current_sum)\n",
    "print(current_sum)"
   ]
  },
  {
   "cell_type": "code",
   "execution_count": 7,
   "metadata": {},
   "outputs": [
    {
     "name": "stdout",
     "output_type": "stream",
     "text": [
      "14.0\n"
     ]
    }
   ],
   "source": [
    "def nCr(n,r):\n",
    "    f = math.factorial\n",
    "    return f(n) / f(r) / f(n-r)\n",
    "\n",
    "E = 0\n",
    "for i in range(8):\n",
    "    E += i*i*nCr(7,i)/2**7\n",
    "print(E)"
   ]
  },
  {
   "cell_type": "code",
   "execution_count": 9,
   "metadata": {},
   "outputs": [
    {
     "name": "stdout",
     "output_type": "stream",
     "text": [
      "0.5081042397757356\n"
     ]
    }
   ],
   "source": [
    "def hypergeo(pairs):\n",
    "    f = math.factorial\n",
    "    x = 0\n",
    "    for a, b in pairs:\n",
    "        x += nCr(48, a) * nCr(72, b)\n",
    "    return x\n",
    "print(hypergeo([(9,16),(10,15),(11,14)]) / nCr(120, 25))"
   ]
  },
  {
   "cell_type": "code",
   "execution_count": 1,
   "metadata": {},
   "outputs": [
    {
     "name": "stdout",
     "output_type": "stream",
     "text": [
      "[(0.1, 3436.094862514664), (0.15, 6241.251290796955), (0.2, 11505.090136653354), (0.25, 20617.41813515984), (0.3, 38654.30510048406), (0.4, 111211.83365895819), (0.5, 553381.2315644223), (0.6, 246831.21690142475), (0.7, 536459.1676465732), (0.8, 583627.6332156284), (0.9, 17852.09479405012), (1, 0.0)]\n"
     ]
    }
   ],
   "source": [
    "import random\n",
    "ans = {}\n",
    "for _ in range(100000):\n",
    "    for bet in [0.1, 0.15, 0.2, 0.25, 0.3, 0.4, 0.5, 0.6, 0.7, 0.8, 0.9, 1]:\n",
    "        x = 1000\n",
    "        for i in range(50):\n",
    "            r = random.random()\n",
    "            if r <= 0.5:\n",
    "                x *= (1 + 1.5*bet)\n",
    "            elif r > 0.5:\n",
    "                x *= (1 - bet)\n",
    "        if bet not in ans:\n",
    "            ans[bet] = [x]\n",
    "        else:\n",
    "            ans[bet].append(x)\n",
    "print_ans = []\n",
    "for bet in ans:\n",
    "    print_ans.append((bet, sum(ans[bet])/100000))\n",
    "print(print_ans)"
   ]
  },
  {
   "cell_type": "code",
   "execution_count": null,
   "metadata": {},
   "outputs": [],
   "source": []
  }
 ],
 "metadata": {
  "kernelspec": {
   "display_name": "Python 3",
   "language": "python",
   "name": "python3"
  },
  "language_info": {
   "codemirror_mode": {
    "name": "ipython",
    "version": 3
   },
   "file_extension": ".py",
   "mimetype": "text/x-python",
   "name": "python",
   "nbconvert_exporter": "python",
   "pygments_lexer": "ipython3",
   "version": "3.7.6"
  }
 },
 "nbformat": 4,
 "nbformat_minor": 4
}
